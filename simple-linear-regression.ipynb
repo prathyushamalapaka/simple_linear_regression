{
 "cells": [
  {
   "cell_type": "markdown",
   "metadata": {},
   "source": [
    "**Importing libraries**"
   ]
  },
  {
   "cell_type": "code",
   "execution_count": 2,
   "metadata": {
    "execution": {
     "iopub.execute_input": "2020-11-25T11:30:21.808835Z",
     "iopub.status.busy": "2020-11-25T11:30:21.808118Z",
     "iopub.status.idle": "2020-11-25T11:30:23.065478Z",
     "shell.execute_reply": "2020-11-25T11:30:23.064908Z"
    },
    "papermill": {
     "duration": 1.271773,
     "end_time": "2020-11-25T11:30:23.065643",
     "exception": false,
     "start_time": "2020-11-25T11:30:21.793870",
     "status": "completed"
    },
    "tags": []
   },
   "outputs": [],
   "source": [
    "import pandas as pd\n",
    "import numpy as np\n",
    "import matplotlib.pyplot as plt\n",
    "from sklearn.model_selection import train_test_split\n",
    "from sklearn.linear_model import LinearRegression\n",
    "from sklearn.model_selection import cross_val_score\n",
    "from sklearn.metrics import mean_squared_error, r2_score"
   ]
  },
  {
   "cell_type": "code",
   "execution_count": 8,
   "metadata": {
    "execution": {
     "iopub.execute_input": "2020-11-25T11:30:23.119347Z",
     "iopub.status.busy": "2020-11-25T11:30:23.118602Z",
     "iopub.status.idle": "2020-11-25T11:30:23.152866Z",
     "shell.execute_reply": "2020-11-25T11:30:23.152199Z"
    },
    "papermill": {
     "duration": 0.049512,
     "end_time": "2020-11-25T11:30:23.152979",
     "exception": false,
     "start_time": "2020-11-25T11:30:23.103467",
     "status": "completed"
    },
    "scrolled": false,
    "tags": []
   },
   "outputs": [
    {
     "data": {
      "text/html": [
       "<div>\n",
       "<style scoped>\n",
       "    .dataframe tbody tr th:only-of-type {\n",
       "        vertical-align: middle;\n",
       "    }\n",
       "\n",
       "    .dataframe tbody tr th {\n",
       "        vertical-align: top;\n",
       "    }\n",
       "\n",
       "    .dataframe thead th {\n",
       "        text-align: right;\n",
       "    }\n",
       "</style>\n",
       "<table border=\"1\" class=\"dataframe\">\n",
       "  <thead>\n",
       "    <tr style=\"text-align: right;\">\n",
       "      <th></th>\n",
       "      <th>X</th>\n",
       "      <th>Y</th>\n",
       "    </tr>\n",
       "  </thead>\n",
       "  <tbody>\n",
       "    <tr>\n",
       "      <th>0</th>\n",
       "      <td>1</td>\n",
       "      <td>3.888889</td>\n",
       "    </tr>\n",
       "    <tr>\n",
       "      <th>1</th>\n",
       "      <td>2</td>\n",
       "      <td>4.555556</td>\n",
       "    </tr>\n",
       "    <tr>\n",
       "      <th>2</th>\n",
       "      <td>3</td>\n",
       "      <td>5.222222</td>\n",
       "    </tr>\n",
       "    <tr>\n",
       "      <th>3</th>\n",
       "      <td>4</td>\n",
       "      <td>5.888889</td>\n",
       "    </tr>\n",
       "    <tr>\n",
       "      <th>4</th>\n",
       "      <td>5</td>\n",
       "      <td>6.555556</td>\n",
       "    </tr>\n",
       "  </tbody>\n",
       "</table>\n",
       "</div>"
      ],
      "text/plain": [
       "   X         Y\n",
       "0  1  3.888889\n",
       "1  2  4.555556\n",
       "2  3  5.222222\n",
       "3  4  5.888889\n",
       "4  5  6.555556"
      ]
     },
     "execution_count": 8,
     "metadata": {},
     "output_type": "execute_result"
    }
   ],
   "source": [
    "linear=pd.read_csv(\"C:/Users/prath/Downloads/Linear_Regression.csv\")\n",
    "linear.head()"
   ]
  },
  {
   "cell_type": "markdown",
   "metadata": {},
   "source": [
    "**Data Pre-processing**"
   ]
  },
  {
   "cell_type": "code",
   "execution_count": 11,
   "metadata": {},
   "outputs": [
    {
     "data": {
      "text/plain": [
       "X    0\n",
       "Y    0\n",
       "dtype: int64"
      ]
     },
     "execution_count": 11,
     "metadata": {},
     "output_type": "execute_result"
    }
   ],
   "source": [
    "linear.isna().sum()"
   ]
  },
  {
   "cell_type": "code",
   "execution_count": 14,
   "metadata": {},
   "outputs": [
    {
     "data": {
      "text/plain": [
       "0"
      ]
     },
     "execution_count": 14,
     "metadata": {},
     "output_type": "execute_result"
    }
   ],
   "source": [
    "linear.duplicated().sum()"
   ]
  },
  {
   "cell_type": "code",
   "execution_count": 10,
   "metadata": {
    "execution": {
     "iopub.execute_input": "2020-11-25T11:30:23.213124Z",
     "iopub.status.busy": "2020-11-25T11:30:23.212120Z",
     "iopub.status.idle": "2020-11-25T11:30:23.215310Z",
     "shell.execute_reply": "2020-11-25T11:30:23.214689Z"
    },
    "papermill": {
     "duration": 0.01916,
     "end_time": "2020-11-25T11:30:23.215425",
     "exception": false,
     "start_time": "2020-11-25T11:30:23.196265",
     "status": "completed"
    },
    "tags": []
   },
   "outputs": [],
   "source": [
    "linear=linear.iloc[:298]"
   ]
  },
  {
   "cell_type": "markdown",
   "metadata": {},
   "source": [
    "**Checking if the data is linear in nature**"
   ]
  },
  {
   "cell_type": "code",
   "execution_count": 15,
   "metadata": {
    "execution": {
     "iopub.execute_input": "2020-11-25T11:30:23.243848Z",
     "iopub.status.busy": "2020-11-25T11:30:23.243115Z",
     "iopub.status.idle": "2020-11-25T11:30:23.448988Z",
     "shell.execute_reply": "2020-11-25T11:30:23.448302Z"
    },
    "papermill": {
     "duration": 0.222259,
     "end_time": "2020-11-25T11:30:23.449114",
     "exception": false,
     "start_time": "2020-11-25T11:30:23.226855",
     "status": "completed"
    },
    "tags": []
   },
   "outputs": [
    {
     "data": {
      "image/png": "[encoded data removed]",
      "text/plain": [
       "<Figure size 432x288 with 1 Axes>"
      ]
     },
     "metadata": {
      "needs_background": "light"
     },
     "output_type": "display_data"
    }
   ],
   "source": [
    "fig = plt.figure()\n",
    "ax = fig.add_subplot(1,1,1)\n",
    "\n",
    "ax.plot(linear['X'], linear['Y'])\n",
    "ax.set_xlabel('input - x')\n",
    "ax.set_ylabel('target - y')\n",
    "plt.show()"
   ]
  },
  {
   "cell_type": "code",
   "execution_count": 16,
   "metadata": {
    "execution": {
     "iopub.execute_input": "2020-11-25T11:30:23.482482Z",
     "iopub.status.busy": "2020-11-25T11:30:23.481852Z",
     "iopub.status.idle": "2020-11-25T11:30:23.485279Z",
     "shell.execute_reply": "2020-11-25T11:30:23.484741Z"
    },
    "papermill": {
     "duration": 0.024415,
     "end_time": "2020-11-25T11:30:23.485392",
     "exception": false,
     "start_time": "2020-11-25T11:30:23.460977",
     "status": "completed"
    },
    "tags": []
   },
   "outputs": [],
   "source": [
    "X = linear[['X']]\n",
    "y = linear[['Y']]"
   ]
  },
  {
   "cell_type": "markdown",
   "metadata": {},
   "source": [
    "**Dividing the data into train and test**"
   ]
  },
  {
   "cell_type": "code",
   "execution_count": 17,
   "metadata": {
    "execution": {
     "iopub.execute_input": "2020-11-25T11:30:23.516757Z",
     "iopub.status.busy": "2020-11-25T11:30:23.516065Z",
     "iopub.status.idle": "2020-11-25T11:30:23.519462Z",
     "shell.execute_reply": "2020-11-25T11:30:23.518906Z"
    },
    "papermill": {
     "duration": 0.022449,
     "end_time": "2020-11-25T11:30:23.519600",
     "exception": false,
     "start_time": "2020-11-25T11:30:23.497151",
     "status": "completed"
    },
    "tags": []
   },
   "outputs": [],
   "source": [
    "X_train, X_test,y_train,y_test=train_test_split(X,y,test_size=0.3,random_state=2)"
   ]
  },
  {
   "cell_type": "markdown",
   "metadata": {},
   "source": [
    "**Running simple linear regression in one variable**"
   ]
  },
  {
   "cell_type": "code",
   "execution_count": 18,
   "metadata": {
    "execution": {
     "iopub.execute_input": "2020-11-25T11:30:23.643501Z",
     "iopub.status.busy": "2020-11-25T11:30:23.642677Z",
     "iopub.status.idle": "2020-11-25T11:30:23.645867Z",
     "shell.execute_reply": "2020-11-25T11:30:23.646495Z"
    },
    "papermill": {
     "duration": 0.114981,
     "end_time": "2020-11-25T11:30:23.646696",
     "exception": false,
     "start_time": "2020-11-25T11:30:23.531715",
     "status": "completed"
    },
    "tags": []
   },
   "outputs": [
    {
     "name": "stdout",
     "output_type": "stream",
     "text": [
      "[1. 1. 1. 1. 1.]\n"
     ]
    }
   ],
   "source": [
    "model=LinearRegression()\n",
    "\n",
    "scores = cross_val_score(model, X_train, y_train, cv= 5)\n",
    "print(scores)"
   ]
  },
  {
   "cell_type": "code",
   "execution_count": 19,
   "metadata": {
    "execution": {
     "iopub.execute_input": "2020-11-25T11:30:23.693671Z",
     "iopub.status.busy": "2020-11-25T11:30:23.688809Z",
     "iopub.status.idle": "2020-11-25T11:30:23.696865Z",
     "shell.execute_reply": "2020-11-25T11:30:23.696304Z"
    },
    "papermill": {
     "duration": 0.034137,
     "end_time": "2020-11-25T11:30:23.696992",
     "exception": false,
     "start_time": "2020-11-25T11:30:23.662855",
     "status": "completed"
    },
    "tags": []
   },
   "outputs": [],
   "source": [
    "model=model.fit(X_train, y_train)\n",
    "y_pred=model.predict(X_test)"
   ]
  },
  {
   "cell_type": "code",
   "execution_count": 20,
   "metadata": {
    "execution": {
     "iopub.execute_input": "2020-11-25T11:30:23.733207Z",
     "iopub.status.busy": "2020-11-25T11:30:23.726560Z",
     "iopub.status.idle": "2020-11-25T11:30:23.880192Z",
     "shell.execute_reply": "2020-11-25T11:30:23.880848Z"
    },
    "papermill": {
     "duration": 0.171612,
     "end_time": "2020-11-25T11:30:23.881033",
     "exception": false,
     "start_time": "2020-11-25T11:30:23.709421",
     "status": "completed"
    },
    "tags": []
   },
   "outputs": [
    {
     "data": {
      "text/plain": [
       "[<matplotlib.lines.Line2D at 0x1e39120ab20>]"
      ]
     },
     "execution_count": 20,
     "metadata": {},
     "output_type": "execute_result"
    },
    {
     "data": {
      "image/png": "[encoded data removed]",
      "text/plain": [
       "<Figure size 432x288 with 1 Axes>"
      ]
     },
     "metadata": {
      "needs_background": "light"
     },
     "output_type": "display_data"
    }
   ],
   "source": [
    "plt.scatter(X_train,y_train,color='red')\n",
    "plt.plot(X_train,model.predict(X_train),color='blue')"
   ]
  },
  {
   "cell_type": "code",
   "execution_count": 21,
   "metadata": {
    "execution": {
     "iopub.execute_input": "2020-11-25T11:30:23.920419Z",
     "iopub.status.busy": "2020-11-25T11:30:23.919422Z",
     "iopub.status.idle": "2020-11-25T11:30:24.059641Z",
     "shell.execute_reply": "2020-11-25T11:30:24.060138Z"
    },
    "papermill": {
     "duration": 0.164122,
     "end_time": "2020-11-25T11:30:24.060277",
     "exception": false,
     "start_time": "2020-11-25T11:30:23.896155",
     "status": "completed"
    },
    "tags": []
   },
   "outputs": [
    {
     "data": {
      "text/plain": [
       "[<matplotlib.lines.Line2D at 0x1e39127ee80>]"
      ]
     },
     "execution_count": 21,
     "metadata": {},
     "output_type": "execute_result"
    },
    {
     "data": {
      "image/png": "[encoded data removed]",
      "text/plain": [
       "<Figure size 432x288 with 1 Axes>"
      ]
     },
     "metadata": {
      "needs_background": "light"
     },
     "output_type": "display_data"
    }
   ],
   "source": [
    "plt.scatter(X_test,y_test,color='red')\n",
    "plt.plot(X_test,model.predict(X_test),color='blue')"
   ]
  },
  {
   "cell_type": "code",
   "execution_count": 22,
   "metadata": {
    "execution": {
     "iopub.execute_input": "2020-11-25T11:30:24.099695Z",
     "iopub.status.busy": "2020-11-25T11:30:24.098685Z",
     "iopub.status.idle": "2020-11-25T11:30:24.102566Z",
     "shell.execute_reply": "2020-11-25T11:30:24.101949Z"
    },
    "papermill": {
     "duration": 0.027988,
     "end_time": "2020-11-25T11:30:24.102680",
     "exception": false,
     "start_time": "2020-11-25T11:30:24.074692",
     "status": "completed"
    },
    "tags": []
   },
   "outputs": [
    {
     "name": "stdout",
     "output_type": "stream",
     "text": [
      "Mean squared error:  3.9695504240819695e-16\n",
      "R2 Score:  1.0\n"
     ]
    }
   ],
   "source": [
    "MSE = mean_squared_error(y_test, y_pred)\n",
    "r2 = r2_score(y_test, y_pred)\n",
    "\n",
    "print('Mean squared error: ', MSE)\n",
    "print('R2 Score: ', r2)"
   ]
  }
 ],
 "metadata": {
  "kernelspec": {
   "display_name": "Python 3",
   "language": "python",
   "name": "python3"
  },
  "language_info": {
   "codemirror_mode": {
    "name": "ipython",
    "version": 3
   },
   "file_extension": ".py",
   "mimetype": "text/x-python",
   "name": "python",
   "nbconvert_exporter": "python",
   "pygments_lexer": "ipython3",
   "version": "3.8.8"
  },
  "papermill": {
   "duration": 7.291224,
   "end_time": "2020-11-25T11:30:24.255319",
   "environment_variables": {},
   "exception": null,
   "input_path": "__notebook__.ipynb",
   "output_path": "__notebook__.ipynb",
   "parameters": {},
   "start_time": "2020-11-25T11:30:16.964095",
   "version": "2.1.0"
  }
 },
 "nbformat": 4,
 "nbformat_minor": 4
}
