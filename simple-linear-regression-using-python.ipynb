{
 "cells": [
  {
   "cell_type": "code",
   "execution_count": 2,
   "metadata": {
    "execution": {
     "iopub.execute_input": "2020-11-25T12:55:44.917514Z",
     "iopub.status.busy": "2020-11-25T12:55:44.916427Z",
     "iopub.status.idle": "2020-11-25T12:55:44.919395Z",
     "shell.execute_reply": "2020-11-25T12:55:44.918759Z"
    },
    "papermill": {
     "duration": 0.020831,
     "end_time": "2020-11-25T12:55:44.919540",
     "exception": false,
     "start_time": "2020-11-25T12:55:44.898709",
     "status": "completed"
    },
    "tags": []
   },
   "outputs": [],
   "source": [
    "import pandas as pd\n",
    "import numpy as np"
   ]
  },
  {
   "cell_type": "code",
   "execution_count": 3,
   "metadata": {
    "_cell_guid": "79c7e3d0-c299-4dcb-8224-4455121ee9b0",
    "_uuid": "d629ff2d2480ee46fbb7e2d37f6b5fab8052498a",
    "execution": {
     "iopub.execute_input": "2020-11-25T12:55:44.951475Z",
     "iopub.status.busy": "2020-11-25T12:55:44.950643Z",
     "iopub.status.idle": "2020-11-25T12:55:44.978249Z",
     "shell.execute_reply": "2020-11-25T12:55:44.977484Z"
    },
    "papermill": {
     "duration": 0.046149,
     "end_time": "2020-11-25T12:55:44.978375",
     "exception": false,
     "start_time": "2020-11-25T12:55:44.932226",
     "status": "completed"
    },
    "tags": []
   },
   "outputs": [
    {
     "data": {
      "text/html": [
       "<div>\n",
       "<style scoped>\n",
       "    .dataframe tbody tr th:only-of-type {\n",
       "        vertical-align: middle;\n",
       "    }\n",
       "\n",
       "    .dataframe tbody tr th {\n",
       "        vertical-align: top;\n",
       "    }\n",
       "\n",
       "    .dataframe thead th {\n",
       "        text-align: right;\n",
       "    }\n",
       "</style>\n",
       "<table border=\"1\" class=\"dataframe\">\n",
       "  <thead>\n",
       "    <tr style=\"text-align: right;\">\n",
       "      <th></th>\n",
       "      <th>YearsExperience</th>\n",
       "      <th>Salary</th>\n",
       "    </tr>\n",
       "  </thead>\n",
       "  <tbody>\n",
       "    <tr>\n",
       "      <th>0</th>\n",
       "      <td>1.1</td>\n",
       "      <td>39343</td>\n",
       "    </tr>\n",
       "    <tr>\n",
       "      <th>1</th>\n",
       "      <td>1.3</td>\n",
       "      <td>46205</td>\n",
       "    </tr>\n",
       "    <tr>\n",
       "      <th>2</th>\n",
       "      <td>1.5</td>\n",
       "      <td>37731</td>\n",
       "    </tr>\n",
       "    <tr>\n",
       "      <th>3</th>\n",
       "      <td>2.0</td>\n",
       "      <td>43525</td>\n",
       "    </tr>\n",
       "    <tr>\n",
       "      <th>4</th>\n",
       "      <td>2.2</td>\n",
       "      <td>39891</td>\n",
       "    </tr>\n",
       "  </tbody>\n",
       "</table>\n",
       "</div>"
      ],
      "text/plain": [
       "   YearsExperience  Salary\n",
       "0              1.1   39343\n",
       "1              1.3   46205\n",
       "2              1.5   37731\n",
       "3              2.0   43525\n",
       "4              2.2   39891"
      ]
     },
     "execution_count": 3,
     "metadata": {},
     "output_type": "execute_result"
    }
   ],
   "source": [
    "salary=pd.read_csv('../input/salary/Salary.csv')\n",
    "salary.head()"
   ]
  },
  {
   "cell_type": "code",
   "execution_count": 4,
   "metadata": {
    "execution": {
     "iopub.execute_input": "2020-11-25T12:55:45.013258Z",
     "iopub.status.busy": "2020-11-25T12:55:45.012418Z",
     "iopub.status.idle": "2020-11-25T12:55:45.255765Z",
     "shell.execute_reply": "2020-11-25T12:55:45.255078Z"
    },
    "papermill": {
     "duration": 0.263991,
     "end_time": "2020-11-25T12:55:45.255911",
     "exception": false,
     "start_time": "2020-11-25T12:55:44.991920",
     "status": "completed"
    },
    "tags": []
   },
   "outputs": [
    {
     "data": {
      "image/png": "[encoded data removed]",
      "text/plain": [
       "<Figure size 432x288 with 1 Axes>"
      ]
     },
     "metadata": {
      "needs_background": "light"
     },
     "output_type": "display_data"
    }
   ],
   "source": [
    "import matplotlib.pyplot as plt\n",
    "fig = plt.figure()\n",
    "ax = fig.add_subplot(1,1,1)\n",
    "\n",
    "ax.plot(salary['YearsExperience'], salary['Salary'])\n",
    "ax.set_xlabel('input - Exp')\n",
    "ax.set_ylabel('target - Salary')\n",
    "plt.show()"
   ]
  },
  {
   "cell_type": "code",
   "execution_count": 5,
   "metadata": {
    "execution": {
     "iopub.execute_input": "2020-11-25T12:55:45.298587Z",
     "iopub.status.busy": "2020-11-25T12:55:45.297452Z",
     "iopub.status.idle": "2020-11-25T12:55:45.302157Z",
     "shell.execute_reply": "2020-11-25T12:55:45.301561Z"
    },
    "papermill": {
     "duration": 0.030113,
     "end_time": "2020-11-25T12:55:45.302287",
     "exception": false,
     "start_time": "2020-11-25T12:55:45.272174",
     "status": "completed"
    },
    "tags": []
   },
   "outputs": [
    {
     "data": {
      "text/plain": [
       "YearsExperience    0\n",
       "Salary             0\n",
       "dtype: int64"
      ]
     },
     "execution_count": 5,
     "metadata": {},
     "output_type": "execute_result"
    }
   ],
   "source": [
    "salary.isnull().sum()"
   ]
  },
  {
   "cell_type": "code",
   "execution_count": 6,
   "metadata": {
    "execution": {
     "iopub.execute_input": "2020-11-25T12:55:45.343797Z",
     "iopub.status.busy": "2020-11-25T12:55:45.342665Z",
     "iopub.status.idle": "2020-11-25T12:55:45.345741Z",
     "shell.execute_reply": "2020-11-25T12:55:45.346604Z"
    },
    "papermill": {
     "duration": 0.029383,
     "end_time": "2020-11-25T12:55:45.346779",
     "exception": false,
     "start_time": "2020-11-25T12:55:45.317396",
     "status": "completed"
    },
    "tags": []
   },
   "outputs": [],
   "source": [
    "X = salary[['YearsExperience']]\n",
    "y = salary[['Salary']]"
   ]
  },
  {
   "cell_type": "code",
   "execution_count": 7,
   "metadata": {
    "execution": {
     "iopub.execute_input": "2020-11-25T12:55:45.383765Z",
     "iopub.status.busy": "2020-11-25T12:55:45.382855Z",
     "iopub.status.idle": "2020-11-25T12:55:46.507902Z",
     "shell.execute_reply": "2020-11-25T12:55:46.507076Z"
    },
    "papermill": {
     "duration": 1.145821,
     "end_time": "2020-11-25T12:55:46.508027",
     "exception": false,
     "start_time": "2020-11-25T12:55:45.362206",
     "status": "completed"
    },
    "tags": []
   },
   "outputs": [],
   "source": [
    "from sklearn.model_selection import train_test_split\n",
    "X_train, X_test,y_train,y_test=train_test_split(X,y,test_size=0.3,random_state=2)"
   ]
  },
  {
   "cell_type": "code",
   "execution_count": 8,
   "metadata": {
    "execution": {
     "iopub.execute_input": "2020-11-25T12:55:46.545569Z",
     "iopub.status.busy": "2020-11-25T12:55:46.544721Z",
     "iopub.status.idle": "2020-11-25T12:55:46.636410Z",
     "shell.execute_reply": "2020-11-25T12:55:46.635719Z"
    },
    "papermill": {
     "duration": 0.112078,
     "end_time": "2020-11-25T12:55:46.636542",
     "exception": false,
     "start_time": "2020-11-25T12:55:46.524464",
     "status": "completed"
    },
    "tags": []
   },
   "outputs": [],
   "source": [
    "from sklearn.linear_model import LinearRegression\n",
    "model=LinearRegression()"
   ]
  },
  {
   "cell_type": "code",
   "execution_count": 9,
   "metadata": {
    "execution": {
     "iopub.execute_input": "2020-11-25T12:55:46.671569Z",
     "iopub.status.busy": "2020-11-25T12:55:46.670805Z",
     "iopub.status.idle": "2020-11-25T12:55:46.763887Z",
     "shell.execute_reply": "2020-11-25T12:55:46.762894Z"
    },
    "papermill": {
     "duration": 0.111952,
     "end_time": "2020-11-25T12:55:46.764066",
     "exception": false,
     "start_time": "2020-11-25T12:55:46.652114",
     "status": "completed"
    },
    "tags": []
   },
   "outputs": [
    {
     "name": "stdout",
     "output_type": "stream",
     "text": [
      "[0.97600198 0.9482473  0.90674027 0.98476061 0.87229265]\n"
     ]
    }
   ],
   "source": [
    "from sklearn.model_selection import cross_val_score\n",
    "\n",
    "scores = cross_val_score(model, X_train, y_train, cv= 5)\n",
    "print(scores)"
   ]
  },
  {
   "cell_type": "code",
   "execution_count": 10,
   "metadata": {
    "execution": {
     "iopub.execute_input": "2020-11-25T12:55:46.809512Z",
     "iopub.status.busy": "2020-11-25T12:55:46.808317Z",
     "iopub.status.idle": "2020-11-25T12:55:46.811038Z",
     "shell.execute_reply": "2020-11-25T12:55:46.811644Z"
    },
    "papermill": {
     "duration": 0.030554,
     "end_time": "2020-11-25T12:55:46.811809",
     "exception": false,
     "start_time": "2020-11-25T12:55:46.781255",
     "status": "completed"
    },
    "tags": []
   },
   "outputs": [],
   "source": [
    "model=model.fit(X_train, y_train)"
   ]
  },
  {
   "cell_type": "code",
   "execution_count": 11,
   "metadata": {
    "execution": {
     "iopub.execute_input": "2020-11-25T12:55:46.856045Z",
     "iopub.status.busy": "2020-11-25T12:55:46.855093Z",
     "iopub.status.idle": "2020-11-25T12:55:46.858337Z",
     "shell.execute_reply": "2020-11-25T12:55:46.857590Z"
    },
    "papermill": {
     "duration": 0.028517,
     "end_time": "2020-11-25T12:55:46.858459",
     "exception": false,
     "start_time": "2020-11-25T12:55:46.829942",
     "status": "completed"
    },
    "tags": []
   },
   "outputs": [],
   "source": [
    "y_pred=model.predict(X_test)"
   ]
  },
  {
   "cell_type": "code",
   "execution_count": 12,
   "metadata": {
    "execution": {
     "iopub.execute_input": "2020-11-25T12:55:46.903536Z",
     "iopub.status.busy": "2020-11-25T12:55:46.902741Z",
     "iopub.status.idle": "2020-11-25T12:55:47.091206Z",
     "shell.execute_reply": "2020-11-25T12:55:47.091762Z"
    },
    "papermill": {
     "duration": 0.217129,
     "end_time": "2020-11-25T12:55:47.091932",
     "exception": false,
     "start_time": "2020-11-25T12:55:46.874803",
     "status": "completed"
    },
    "tags": []
   },
   "outputs": [
    {
     "data": {
      "text/plain": [
       "[<matplotlib.lines.Line2D at 0x7f290a6cc5d0>]"
      ]
     },
     "execution_count": 12,
     "metadata": {},
     "output_type": "execute_result"
    },
    {
     "data": {
      "image/png": "[encoded data removed]",
      "text/plain": [
       "<Figure size 432x288 with 1 Axes>"
      ]
     },
     "metadata": {
      "needs_background": "light"
     },
     "output_type": "display_data"
    }
   ],
   "source": [
    "plt.scatter(X_train,y_train,color='red')\n",
    "plt.plot(X_train,model.predict(X_train),color='blue')"
   ]
  },
  {
   "cell_type": "code",
   "execution_count": 13,
   "metadata": {
    "execution": {
     "iopub.execute_input": "2020-11-25T12:55:47.143525Z",
     "iopub.status.busy": "2020-11-25T12:55:47.141778Z",
     "iopub.status.idle": "2020-11-25T12:55:47.318509Z",
     "shell.execute_reply": "2020-11-25T12:55:47.319089Z"
    },
    "papermill": {
     "duration": 0.208935,
     "end_time": "2020-11-25T12:55:47.319271",
     "exception": false,
     "start_time": "2020-11-25T12:55:47.110336",
     "status": "completed"
    },
    "tags": []
   },
   "outputs": [
    {
     "data": {
      "text/plain": [
       "[<matplotlib.lines.Line2D at 0x7f290a65ba90>]"
      ]
     },
     "execution_count": 13,
     "metadata": {},
     "output_type": "execute_result"
    },
    {
     "data": {
      "image/png": "[encoded data removed]",
      "text/plain": [
       "<Figure size 432x288 with 1 Axes>"
      ]
     },
     "metadata": {
      "needs_background": "light"
     },
     "output_type": "display_data"
    }
   ],
   "source": [
    "plt.scatter(X_test,y_test,color='red')\n",
    "plt.plot(X_test,model.predict(X_test),color='blue')"
   ]
  }
 ],
 "metadata": {
  "kernelspec": {
   "display_name": "Python 3",
   "language": "python",
   "name": "python3"
  },
  "language_info": {
   "codemirror_mode": {
    "name": "ipython",
    "version": 3
   },
   "file_extension": ".py",
   "mimetype": "text/x-python",
   "name": "python",
   "nbconvert_exporter": "python",
   "pygments_lexer": "ipython3",
   "version": "3.8.8"
  },
  "papermill": {
   "duration": 7.852015,
   "end_time": "2020-11-25T12:55:47.484879",
   "environment_variables": {},
   "exception": null,
   "input_path": "__notebook__.ipynb",
   "output_path": "__notebook__.ipynb",
   "parameters": {},
   "start_time": "2020-11-25T12:55:39.632864",
   "version": "2.1.0"
  }
 },
 "nbformat": 4,
 "nbformat_minor": 4
}
